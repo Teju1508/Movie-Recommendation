{
  "nbformat": 4,
  "nbformat_minor": 0,
  "metadata": {
    "colab": {
      "name": "Movie Recommendation Engine.ipynb",
      "provenance": [],
      "collapsed_sections": []
    },
    "kernelspec": {
      "name": "python3",
      "display_name": "Python 3"
    }
  },
  "cells": [
    {
      "cell_type": "code",
      "metadata": {
        "id": "UON_ravrcxYq",
        "colab_type": "code",
        "colab": {
          "base_uri": "https://localhost:8080/",
          "height": 442
        },
        "outputId": "f54f117c-fe5a-4bb0-bb84-409de418dc6b"
      },
      "source": [
        "\n",
        "import pandas as pd\n",
        "from scipy.sparse import csr_matrix\n",
        "from sklearn.neighbors import NearestNeighbors\n",
        "from fuzzywuzzy import process\n",
        "movies='movies.csv'\n",
        "ratings='ratings.csv'\n",
        "\n",
        "df_movies=pd.read_csv(movies, usecols=['movieId','title'], dtype={'movieId':'int32','title':'str'})\n",
        "df_ratings=pd.read_csv(ratings, usecols=['userId','movieId','rating'],dtype={'userId':'int32','movieId':'int32','rating':'float32'})\n",
        "movies_users=df_ratings.pivot(index='movieId', columns='userId',values='rating').fillna(0)\n",
        "mat_movies_users=csr_matrix(movies_users.values)\n",
        "model_knn= NearestNeighbors(metric='cosine', algorithm='brute', n_neighbors=20)\n",
        "model_knn.fit(mat_movies_users)\n",
        "\n",
        "def recommender(movie_name, data,model, n_recommendations ):\n",
        "    model.fit(data)\n",
        "    idx=process.extractOne(movie_name, df_movies['title'])[2]\n",
        "    print('Movie Selected: ',df_movies['title'][idx], 'Index: ',idx)\n",
        "    print('Searching for recommendations.....')\n",
        "    distances, indices=model.kneighbors(data[idx], n_neighbors=n_recommendations)\n",
        "    for i in indices:\n",
        "        print(df_movies['title'][i].where(i!=idx))\n",
        "name=(input('Enter the movie name'))\n",
        "nbos=int(input('Enter the number of similar movies'))\n",
        "recommender(name, mat_movies_users, model_knn,nbos)\n"
      ],
      "execution_count": 7,
      "outputs": [
        {
          "output_type": "stream",
          "text": [
            "Enter the movie namevampire\n",
            "Enter the number of similar movies20\n",
            "Movie Selected:  Vampire in Brooklyn (1995) Index:  82\n",
            "Searching for recommendations.....\n",
            "82                                      NaN\n",
            "149                Lord of Illusions (1995)\n",
            "14                  Cutthroat Island (1995)\n",
            "6725       Forgetting Sarah Marshall (2008)\n",
            "214     Heavyweights (Heavy Weights) (1995)\n",
            "669                        First Kid (1996)\n",
            "298                         War, The (1994)\n",
            "146                        Jury Duty (1995)\n",
            "206                         Hideaway (1995)\n",
            "236                 Man of the House (1995)\n",
            "381              Cops and Robbersons (1994)\n",
            "169                     Three Wishes (1995)\n",
            "160                         Reckless (1995)\n",
            "294                Walking Dead, The (1995)\n",
            "747                 Nothing Personal (1995)\n",
            "187                        Cure, The (1995)\n",
            "445                   Poetic Justice (1993)\n",
            "269                       Rent-a-Kid (1995)\n",
            "612              Spirits of the Dead (1968)\n",
            "209                            Gordy (1995)\n",
            "Name: title, dtype: object\n"
          ],
          "name": "stdout"
        }
      ]
    },
    {
      "cell_type": "code",
      "metadata": {
        "id": "muXpnbGjf5qi",
        "colab_type": "code",
        "colab": {
          "base_uri": "https://localhost:8080/",
          "height": 105
        },
        "outputId": "8f445abf-75f8-4788-e59c-84042657045c"
      },
      "source": [
        "!pip install fuzzywuzzy"
      ],
      "execution_count": 2,
      "outputs": [
        {
          "output_type": "stream",
          "text": [
            "Collecting fuzzywuzzy\n",
            "  Downloading https://files.pythonhosted.org/packages/43/ff/74f23998ad2f93b945c0309f825be92e04e0348e062026998b5eefef4c33/fuzzywuzzy-0.18.0-py2.py3-none-any.whl\n",
            "Installing collected packages: fuzzywuzzy\n",
            "Successfully installed fuzzywuzzy-0.18.0\n"
          ],
          "name": "stdout"
        }
      ]
    }
  ]
}